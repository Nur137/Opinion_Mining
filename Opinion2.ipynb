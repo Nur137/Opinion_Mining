{
 "cells": [
  {
   "cell_type": "markdown",
   "metadata": {},
   "source": [
    "### Supposing we have filtered and transformed our sentences. Then the next task would be getting feature vector, train different kind of estimators and evaluate them "
   ]
  },
  {
   "cell_type": "code",
   "execution_count": 1,
   "metadata": {
    "collapsed": true
   },
   "outputs": [],
   "source": [
    "import pandas as pd"
   ]
  },
  {
   "cell_type": "code",
   "execution_count": 2,
   "metadata": {
    "collapsed": true
   },
   "outputs": [],
   "source": [
    "df = pd.read_csv('texts.csv')"
   ]
  },
  {
   "cell_type": "code",
   "execution_count": 3,
   "metadata": {
    "collapsed": false
   },
   "outputs": [
    {
     "data": {
      "text/html": [
       "<div>\n",
       "<table border=\"1\" class=\"dataframe\">\n",
       "  <thead>\n",
       "    <tr style=\"text-align: right;\">\n",
       "      <th></th>\n",
       "      <th>Text</th>\n",
       "      <th>sentiment</th>\n",
       "    </tr>\n",
       "  </thead>\n",
       "  <tbody>\n",
       "    <tr>\n",
       "      <th>0</th>\n",
       "      <td>যখন মানুষের খুব প্রিয় কেউ তাকে অপছন্দ অবহেলা ...</td>\n",
       "      <td>0</td>\n",
       "    </tr>\n",
       "    <tr>\n",
       "      <th>1</th>\n",
       "      <td>আর অনেকদিন পরে সে আগের চেয়েও অনেকবেশী খুশি থা...</td>\n",
       "      <td>1</td>\n",
       "    </tr>\n",
       "    <tr>\n",
       "      <th>2</th>\n",
       "      <td>আনন্দ</td>\n",
       "      <td>1</td>\n",
       "    </tr>\n",
       "    <tr>\n",
       "      <th>3</th>\n",
       "      <td>নিকোটিনের বিষে আমার শরীরের প্রতিটি কোষ অভ্যস্ত</td>\n",
       "      <td>0</td>\n",
       "    </tr>\n",
       "    <tr>\n",
       "      <th>4</th>\n",
       "      <td>সিগারেট</td>\n",
       "      <td>0</td>\n",
       "    </tr>\n",
       "  </tbody>\n",
       "</table>\n",
       "</div>"
      ],
      "text/plain": [
       "                                                Text   sentiment\n",
       "0  যখন মানুষের খুব প্রিয় কেউ তাকে অপছন্দ অবহেলা ...           0\n",
       "1  আর অনেকদিন পরে সে আগের চেয়েও অনেকবেশী খুশি থা...           1\n",
       "2                                              আনন্দ           1\n",
       "3    নিকোটিনের বিষে আমার শরীরের প্রতিটি কোষ অভ্যস্ত            0\n",
       "4                                           সিগারেট            0"
      ]
     },
     "execution_count": 3,
     "metadata": {},
     "output_type": "execute_result"
    }
   ],
   "source": [
    "df.head()"
   ]
  },
  {
   "cell_type": "code",
   "execution_count": 4,
   "metadata": {
    "collapsed": true
   },
   "outputs": [],
   "source": [
    "stop = []\n",
    "with open('stopwords','r') as f:\n",
    "    for line in f:\n",
    "        for word in line.split():\n",
    "            stop.append(word)"
   ]
  },
  {
   "cell_type": "code",
   "execution_count": 5,
   "metadata": {
    "collapsed": true
   },
   "outputs": [],
   "source": [
    "def tokenizer(text):\n",
    "    text = text.split()\n",
    "    return [w for w in text if w not in stop]"
   ]
  },
  {
   "cell_type": "code",
   "execution_count": 6,
   "metadata": {
    "collapsed": false
   },
   "outputs": [
    {
     "data": {
      "text/plain": [
       "'যখন মানুষের খুব প্রিয় কেউ তাকে অপছন্দ অবহেলা কিংবা ঘৃণা করে তখন প্রথম প্রথম মানুষ খুব কষ্ট পায় এবং চায় যে সব ঠিক হয়ে যাক'"
      ]
     },
     "execution_count": 6,
     "metadata": {},
     "output_type": "execute_result"
    }
   ],
   "source": [
    "df['Text'].values[0]"
   ]
  },
  {
   "cell_type": "code",
   "execution_count": 7,
   "metadata": {
    "collapsed": false
   },
   "outputs": [
    {
     "data": {
      "text/plain": [
       "['মানুষের',\n",
       " 'প্রিয়',\n",
       " 'অপছন্দ',\n",
       " 'অবহেলা',\n",
       " 'ঘৃণা',\n",
       " 'প্রথম',\n",
       " 'প্রথম',\n",
       " 'মানুষ',\n",
       " 'কষ্ট',\n",
       " 'পায়',\n",
       " 'চায়',\n",
       " 'হয়ে',\n",
       " 'যাক']"
      ]
     },
     "execution_count": 7,
     "metadata": {},
     "output_type": "execute_result"
    }
   ],
   "source": [
    "tokenizer(df['Text'].values[0])"
   ]
  },
  {
   "cell_type": "code",
   "execution_count": 8,
   "metadata": {
    "collapsed": false
   },
   "outputs": [],
   "source": [
    "from sklearn.feature_extraction.text import CountVectorizer"
   ]
  },
  {
   "cell_type": "code",
   "execution_count": 9,
   "metadata": {
    "collapsed": true
   },
   "outputs": [],
   "source": [
    "count = CountVectorizer(stop_words=stop,tokenizer=tokenizer)"
   ]
  },
  {
   "cell_type": "code",
   "execution_count": 10,
   "metadata": {
    "collapsed": false
   },
   "outputs": [],
   "source": [
    "bag = count.fit_transform(df['Text'].values)"
   ]
  },
  {
   "cell_type": "code",
   "execution_count": 11,
   "metadata": {
    "collapsed": false
   },
   "outputs": [
    {
     "data": {
      "text/plain": [
       "{'অকপট': 0,\n",
       " 'অকৃতজ্ঞতা': 1,\n",
       " 'অকৃতজ্ঞতার': 2,\n",
       " 'অগ্রাধিকার': 3,\n",
       " 'অজ্ঞের': 4,\n",
       " 'অত্যাচার': 5,\n",
       " 'অনাহারে': 6,\n",
       " 'অনেকদিন': 7,\n",
       " 'অনেকবেশী': 8,\n",
       " 'অন্তর্গত': 9,\n",
       " 'অন্যের': 10,\n",
       " 'অপকর্মের': 11,\n",
       " 'অপছন্দ': 12,\n",
       " 'অপরাধ': 13,\n",
       " 'অপ্রিয়': 14,\n",
       " 'অবস্থায়': 15,\n",
       " 'অবহেলা': 16,\n",
       " 'অবেলায়': 17,\n",
       " 'অভিজ্ঞতায়': 18,\n",
       " 'অভিমান': 19,\n",
       " 'অভ্যস্ত': 20,\n",
       " 'অর্থহীন': 21,\n",
       " 'অশিক্ষিত': 22,\n",
       " 'অশ্লীল': 23,\n",
       " 'অসাধুর': 24,\n",
       " 'অহিংসা': 25,\n",
       " 'আইনশৃঙ্খলা': 26,\n",
       " 'আকাইম্যা': 27,\n",
       " 'আক্রমণের': 28,\n",
       " 'আগের': 29,\n",
       " 'আত্নার': 30,\n",
       " 'আত্মশক্তির': 31,\n",
       " 'আদব-কায়দাই': 32,\n",
       " 'আদর': 33,\n",
       " 'আনন্দ': 34,\n",
       " 'আনন্দপুর্ন': 35,\n",
       " 'আপ্যায়ন': 36,\n",
       " 'আসবে': 37,\n",
       " 'আসে': 38,\n",
       " 'ইচ্ছানুযায়ী': 39,\n",
       " 'ইবাদত': 40,\n",
       " 'উচিৎ': 41,\n",
       " 'উত্তম': 42,\n",
       " 'উদ্রেক': 43,\n",
       " 'উপভোগ': 44,\n",
       " 'উৎকৃষ্ট': 45,\n",
       " 'একজনের': 46,\n",
       " 'একশো': 47,\n",
       " 'ওঠো': 48,\n",
       " 'ওস্তাদের': 49,\n",
       " 'কতগুলো': 50,\n",
       " 'কথা': 51,\n",
       " 'কপট': 52,\n",
       " 'কম': 53,\n",
       " 'কমন': 54,\n",
       " 'করলেই': 55,\n",
       " 'করুণা': 56,\n",
       " 'কর্তব্য': 57,\n",
       " 'কল্পনাশক্তিই': 58,\n",
       " 'কষ্ট': 59,\n",
       " 'কাঁদে': 60,\n",
       " 'কামনা': 61,\n",
       " 'কামনাও': 62,\n",
       " 'কারো': 63,\n",
       " 'কোনই': 64,\n",
       " 'কোষ': 65,\n",
       " 'ক্ষমাশীলতার': 66,\n",
       " 'ক্ষুদ্র': 67,\n",
       " 'ক্ষুধা': 68,\n",
       " 'ক্ষেত্র': 69,\n",
       " 'খরার': 70,\n",
       " 'খুশি': 71,\n",
       " 'গতি': 72,\n",
       " 'গর্ব': 73,\n",
       " 'গাধা': 74,\n",
       " 'গুণ': 75,\n",
       " 'গুণের': 76,\n",
       " 'গুরুত্বপূর্ণ': 77,\n",
       " 'গ্রীষ্মকালীন': 78,\n",
       " 'ঘৃণা': 79,\n",
       " 'ঘৃনা': 80,\n",
       " 'চরিত্র': 81,\n",
       " 'চায়': 82,\n",
       " 'চিঠি': 83,\n",
       " 'চুপচাপ': 84,\n",
       " 'চেনাতে': 85,\n",
       " 'চেয়েও': 86,\n",
       " 'চেষ্টা': 87,\n",
       " 'চোরের': 88,\n",
       " 'ছুটি': 89,\n",
       " 'ছোটার': 90,\n",
       " 'জটিল': 91,\n",
       " 'জন্যই': 92,\n",
       " 'জয়': 93,\n",
       " 'জানার': 94,\n",
       " 'জানি': 95,\n",
       " 'জীবন': 96,\n",
       " 'জীবনে': 97,\n",
       " 'জীবনের': 98,\n",
       " 'জেগে': 99,\n",
       " 'জ্ঞানী': 100,\n",
       " 'জয়লাভ': 101,\n",
       " 'ঝামেলা': 102,\n",
       " 'তরুণের': 103,\n",
       " 'তাপ': 104,\n",
       " 'তৈরি': 105,\n",
       " 'তোমাকে': 106,\n",
       " 'থাকার': 107,\n",
       " 'থেমো': 108,\n",
       " 'দলাদলি': 109,\n",
       " 'দস্যুর': 110,\n",
       " 'দীপ্তি': 111,\n",
       " 'দুঃখ': 112,\n",
       " 'দুর্নীতি': 113,\n",
       " 'দুর্বলের': 114,\n",
       " 'দূর্ঘটনার': 115,\n",
       " 'দৃঢ়তর': 116,\n",
       " 'দৃস্টিশক্তি': 117,\n",
       " 'দেয়': 118,\n",
       " 'দেশ': 119,\n",
       " 'দোষ': 120,\n",
       " 'ধন': 121,\n",
       " 'ধর্ম': 122,\n",
       " 'ধর্ষণ': 123,\n",
       " 'ধৈর্য': 124,\n",
       " 'নতুন': 125,\n",
       " 'নাম': 126,\n",
       " 'নিঃসঙ্গ': 127,\n",
       " 'নিকোটিনের': 128,\n",
       " 'নির্ভীক': 129,\n",
       " 'নৈতিকতা': 130,\n",
       " 'পরিশ্রম': 131,\n",
       " 'পরিস্থিতিতে': 132,\n",
       " 'পরীক্ষার': 133,\n",
       " 'পলিমাটির': 134,\n",
       " 'পাকা': 135,\n",
       " 'পাপ': 136,\n",
       " 'পায়': 137,\n",
       " 'পারিশ্রমিক': 138,\n",
       " 'পেয়ে': 139,\n",
       " 'পৌঁছা': 140,\n",
       " 'প্রতিটি': 141,\n",
       " 'প্রতিপক্ষকে': 142,\n",
       " 'প্রথম': 143,\n",
       " 'প্রধান': 144,\n",
       " 'প্রশান্ত': 145,\n",
       " 'প্রাণপণে': 146,\n",
       " 'প্রিয়': 147,\n",
       " 'ফুলের': 148,\n",
       " 'বছর': 149,\n",
       " 'বড়': 150,\n",
       " 'বন্ধু': 151,\n",
       " 'বলিয়াই': 152,\n",
       " 'বাঁচলেও': 153,\n",
       " 'বাংলাদেশের': 154,\n",
       " 'বিদ্যার': 155,\n",
       " 'বিপজ্জনক': 156,\n",
       " 'বিবর্জিত': 157,\n",
       " 'বিভক্ত': 158,\n",
       " 'বিশ্বাসী': 159,\n",
       " 'বিষ': 160,\n",
       " 'বিষাদময়তা': 161,\n",
       " 'বিষে': 162,\n",
       " 'বুঝতে': 163,\n",
       " 'বুনিয়াদ': 164,\n",
       " 'বৃহৎ': 165,\n",
       " 'বেচে': 166,\n",
       " 'বেশি': 167,\n",
       " 'বেশ্যাবৃওিতে': 168,\n",
       " 'ব্যথা': 169,\n",
       " 'ব্যর্থতা': 170,\n",
       " 'ব্যর্থতাই': 171,\n",
       " 'ব্যাধির': 172,\n",
       " 'ব্যাপার': 173,\n",
       " 'ভয়': 174,\n",
       " 'ভাগে': 175,\n",
       " 'ভাগ্যবান': 176,\n",
       " 'ভালবাসা': 177,\n",
       " 'ভালবাসায়': 178,\n",
       " 'ভালো': 179,\n",
       " 'ভালোবাসা': 180,\n",
       " 'ভালোবাসি': 181,\n",
       " 'মদ': 182,\n",
       " 'মদপান': 183,\n",
       " 'মনের': 184,\n",
       " 'মরে': 185,\n",
       " 'মাইনষ্যের': 186,\n",
       " 'মাইর': 187,\n",
       " 'মানব': 188,\n",
       " 'মানসিক': 189,\n",
       " 'মানুষ': 190,\n",
       " 'মানুষকে': 191,\n",
       " 'মানুষের': 192,\n",
       " 'মারমুখী': 193,\n",
       " 'মিথ্যাই': 194,\n",
       " 'মিশিয়ে': 195,\n",
       " 'মুক্তিযোদ্ধারা': 196,\n",
       " 'মূর্খতার': 197,\n",
       " 'মূর্খরা': 198,\n",
       " 'মূর্খের': 199,\n",
       " 'মেয়েদের': 200,\n",
       " 'যাক': 201,\n",
       " 'যায়': 202,\n",
       " 'রমজান': 203,\n",
       " 'রাইতে': 204,\n",
       " 'রাজনীতির': 205,\n",
       " 'রাজা': 206,\n",
       " 'রেষারেষি': 207,\n",
       " 'রোগ': 208,\n",
       " 'লক্ষ্যে': 209,\n",
       " 'লাভ': 210,\n",
       " 'লিখতে': 211,\n",
       " 'লুটেরা': 212,\n",
       " 'লেখি': 213,\n",
       " 'লোকই': 214,\n",
       " 'শক্তিমান': 215,\n",
       " 'শত্রু': 216,\n",
       " 'শরীরের': 217,\n",
       " 'শান্তি': 218,\n",
       " 'শিক্ষা': 219,\n",
       " 'শিখায়': 220,\n",
       " 'শেষ': 221,\n",
       " 'শ্রদ্ধা': 222,\n",
       " 'শ্রেয়': 223,\n",
       " 'সংখ্যক': 224,\n",
       " 'সংবর্ধনার': 225,\n",
       " 'সংসারে': 226,\n",
       " 'সকল': 227,\n",
       " 'সচেতন': 228,\n",
       " 'সঠিক': 229,\n",
       " 'সততা': 230,\n",
       " 'সত্য': 231,\n",
       " 'সত্যকে': 232,\n",
       " 'সত্যের': 233,\n",
       " 'সন্তান': 234,\n",
       " 'সন্তুুষ্ট': 235,\n",
       " 'সন্তোষই': 236,\n",
       " 'সন্দেহপ্রবণতা': 237,\n",
       " 'সফলতার': 238,\n",
       " 'সম্ভবই': 239,\n",
       " 'সম্মান': 240,\n",
       " 'সহনশীল': 241,\n",
       " 'সাধু': 242,\n",
       " 'সাফল্য': 243,\n",
       " 'সাবধানতা': 244,\n",
       " 'সামান্য': 245,\n",
       " 'সার্থক': 246,\n",
       " 'সার্মথ্য': 247,\n",
       " 'সাহস': 248,\n",
       " 'সাহায্য': 249,\n",
       " 'সিংহ': 250,\n",
       " 'সিগারেট': 251,\n",
       " 'সুখী': 252,\n",
       " 'সুন্দর': 253,\n",
       " 'সূর্যের': 254,\n",
       " 'সেমিষ্টারে': 255,\n",
       " 'সোপান': 256,\n",
       " 'সৌন্দর্য': 257,\n",
       " 'সৌন্দর্যকে': 258,\n",
       " 'স্বার্থোদ্ধারের': 259,\n",
       " 'সৎ': 260,\n",
       " 'সৎকার্যে': 261,\n",
       " 'সৎলোকের': 262,\n",
       " 'হও': 263,\n",
       " 'হয়': 264,\n",
       " 'হয়ে': 265,\n",
       " 'হরতালে': 266,\n",
       " 'হিংসার': 267,\n",
       " 'হিংস্র': 268}"
      ]
     },
     "execution_count": 11,
     "metadata": {},
     "output_type": "execute_result"
    }
   ],
   "source": [
    "count.vocabulary_"
   ]
  },
  {
   "cell_type": "code",
   "execution_count": 12,
   "metadata": {
    "collapsed": false
   },
   "outputs": [
    {
     "data": {
      "text/plain": [
       "array([[0, 0, 0, ..., 0, 0, 0],\n",
       "       [0, 0, 0, ..., 0, 0, 0],\n",
       "       [0, 0, 0, ..., 0, 0, 0],\n",
       "       ..., \n",
       "       [0, 0, 0, ..., 0, 0, 0],\n",
       "       [0, 0, 0, ..., 0, 0, 0],\n",
       "       [0, 0, 0, ..., 0, 0, 0]], dtype=int64)"
      ]
     },
     "execution_count": 12,
     "metadata": {},
     "output_type": "execute_result"
    }
   ],
   "source": [
    "bag.toarray()"
   ]
  },
  {
   "cell_type": "code",
   "execution_count": 13,
   "metadata": {
    "collapsed": false
   },
   "outputs": [
    {
     "data": {
      "text/plain": [
       "array([0, 0, 0, 0, 0, 0, 0, 0, 0, 0, 0, 0, 1, 0, 0, 0, 1, 0, 0, 0, 0, 0, 0,\n",
       "       0, 0, 0, 0, 0, 0, 0, 0, 0, 0, 0, 0, 0, 0, 0, 0, 0, 0, 0, 0, 0, 0, 0,\n",
       "       0, 0, 0, 0, 0, 0, 0, 0, 0, 0, 0, 0, 0, 1, 0, 0, 0, 0, 0, 0, 0, 0, 0,\n",
       "       0, 0, 0, 0, 0, 0, 0, 0, 0, 0, 1, 0, 0, 1, 0, 0, 0, 0, 0, 0, 0, 0, 0,\n",
       "       0, 0, 0, 0, 0, 0, 0, 0, 0, 0, 0, 0, 0, 0, 0, 0, 0, 0, 0, 0, 0, 0, 0,\n",
       "       0, 0, 0, 0, 0, 0, 0, 0, 0, 0, 0, 0, 0, 0, 0, 0, 0, 0, 0, 0, 0, 0, 1,\n",
       "       0, 0, 0, 0, 0, 2, 0, 0, 0, 1, 0, 0, 0, 0, 0, 0, 0, 0, 0, 0, 0, 0, 0,\n",
       "       0, 0, 0, 0, 0, 0, 0, 0, 0, 0, 0, 0, 0, 0, 0, 0, 0, 0, 0, 0, 0, 0, 0,\n",
       "       0, 0, 0, 0, 0, 0, 1, 0, 1, 0, 0, 0, 0, 0, 0, 0, 0, 1, 0, 0, 0, 0, 0,\n",
       "       0, 0, 0, 0, 0, 0, 0, 0, 0, 0, 0, 0, 0, 0, 0, 0, 0, 0, 0, 0, 0, 0, 0,\n",
       "       0, 0, 0, 0, 0, 0, 0, 0, 0, 0, 0, 0, 0, 0, 0, 0, 0, 0, 0, 0, 0, 0, 0,\n",
       "       0, 0, 0, 0, 0, 0, 0, 0, 0, 0, 0, 0, 1, 0, 0, 0], dtype=int64)"
      ]
     },
     "execution_count": 13,
     "metadata": {},
     "output_type": "execute_result"
    }
   ],
   "source": [
    "bag.toarray()[0]"
   ]
  },
  {
   "cell_type": "code",
   "execution_count": 14,
   "metadata": {
    "collapsed": true
   },
   "outputs": [],
   "source": [
    "from sklearn.feature_extraction.text import TfidfTransformer"
   ]
  },
  {
   "cell_type": "code",
   "execution_count": 15,
   "metadata": {
    "collapsed": false
   },
   "outputs": [],
   "source": [
    "tfidf = TfidfTransformer()"
   ]
  },
  {
   "cell_type": "code",
   "execution_count": 16,
   "metadata": {
    "collapsed": false
   },
   "outputs": [
    {
     "data": {
      "text/plain": [
       "array([ 0.        ,  0.        ,  0.        ,  0.        ,  0.        ,\n",
       "        0.        ,  0.        ,  0.        ,  0.        ,  0.        ,\n",
       "        0.        ,  0.        ,  0.26515948,  0.        ,  0.        ,\n",
       "        0.        ,  0.24504031,  0.        ,  0.        ,  0.        ,\n",
       "        0.        ,  0.        ,  0.        ,  0.        ,  0.        ,\n",
       "        0.        ,  0.        ,  0.        ,  0.        ,  0.        ,\n",
       "        0.        ,  0.        ,  0.        ,  0.        ,  0.        ,\n",
       "        0.        ,  0.        ,  0.        ,  0.        ,  0.        ,\n",
       "        0.        ,  0.        ,  0.        ,  0.        ,  0.        ,\n",
       "        0.        ,  0.        ,  0.        ,  0.        ,  0.        ,\n",
       "        0.        ,  0.        ,  0.        ,  0.        ,  0.        ,\n",
       "        0.        ,  0.        ,  0.        ,  0.        ,  0.23076553,\n",
       "        0.        ,  0.        ,  0.        ,  0.        ,  0.        ,\n",
       "        0.        ,  0.        ,  0.        ,  0.        ,  0.        ,\n",
       "        0.        ,  0.        ,  0.        ,  0.        ,  0.        ,\n",
       "        0.        ,  0.        ,  0.        ,  0.        ,  0.26515948,\n",
       "        0.        ,  0.        ,  0.26515948,  0.        ,  0.        ,\n",
       "        0.        ,  0.        ,  0.        ,  0.        ,  0.        ,\n",
       "        0.        ,  0.        ,  0.        ,  0.        ,  0.        ,\n",
       "        0.        ,  0.        ,  0.        ,  0.        ,  0.        ,\n",
       "        0.        ,  0.        ,  0.        ,  0.        ,  0.        ,\n",
       "        0.        ,  0.        ,  0.        ,  0.        ,  0.        ,\n",
       "        0.        ,  0.        ,  0.        ,  0.        ,  0.        ,\n",
       "        0.        ,  0.        ,  0.        ,  0.        ,  0.        ,\n",
       "        0.        ,  0.        ,  0.        ,  0.        ,  0.        ,\n",
       "        0.        ,  0.        ,  0.        ,  0.        ,  0.        ,\n",
       "        0.        ,  0.        ,  0.        ,  0.        ,  0.        ,\n",
       "        0.        ,  0.        ,  0.26515948,  0.        ,  0.        ,\n",
       "        0.        ,  0.        ,  0.        ,  0.53031895,  0.        ,\n",
       "        0.        ,  0.        ,  0.26515948,  0.        ,  0.        ,\n",
       "        0.        ,  0.        ,  0.        ,  0.        ,  0.        ,\n",
       "        0.        ,  0.        ,  0.        ,  0.        ,  0.        ,\n",
       "        0.        ,  0.        ,  0.        ,  0.        ,  0.        ,\n",
       "        0.        ,  0.        ,  0.        ,  0.        ,  0.        ,\n",
       "        0.        ,  0.        ,  0.        ,  0.        ,  0.        ,\n",
       "        0.        ,  0.        ,  0.        ,  0.        ,  0.        ,\n",
       "        0.        ,  0.        ,  0.        ,  0.        ,  0.        ,\n",
       "        0.        ,  0.        ,  0.        ,  0.        ,  0.        ,\n",
       "        0.24504031,  0.        ,  0.23076553,  0.        ,  0.        ,\n",
       "        0.        ,  0.        ,  0.        ,  0.        ,  0.        ,\n",
       "        0.        ,  0.26515948,  0.        ,  0.        ,  0.        ,\n",
       "        0.        ,  0.        ,  0.        ,  0.        ,  0.        ,\n",
       "        0.        ,  0.        ,  0.        ,  0.        ,  0.        ,\n",
       "        0.        ,  0.        ,  0.        ,  0.        ,  0.        ,\n",
       "        0.        ,  0.        ,  0.        ,  0.        ,  0.        ,\n",
       "        0.        ,  0.        ,  0.        ,  0.        ,  0.        ,\n",
       "        0.        ,  0.        ,  0.        ,  0.        ,  0.        ,\n",
       "        0.        ,  0.        ,  0.        ,  0.        ,  0.        ,\n",
       "        0.        ,  0.        ,  0.        ,  0.        ,  0.        ,\n",
       "        0.        ,  0.        ,  0.        ,  0.        ,  0.        ,\n",
       "        0.        ,  0.        ,  0.        ,  0.        ,  0.        ,\n",
       "        0.        ,  0.        ,  0.        ,  0.        ,  0.        ,\n",
       "        0.        ,  0.        ,  0.        ,  0.        ,  0.        ,\n",
       "        0.26515948,  0.        ,  0.        ,  0.        ])"
      ]
     },
     "execution_count": 16,
     "metadata": {},
     "output_type": "execute_result"
    }
   ],
   "source": [
    "tfidf.fit_transform(bag).toarray()[0]"
   ]
  },
  {
   "cell_type": "code",
   "execution_count": 17,
   "metadata": {
    "collapsed": true
   },
   "outputs": [],
   "source": [
    "df.columns = ['text','sentiment']"
   ]
  },
  {
   "cell_type": "code",
   "execution_count": 18,
   "metadata": {
    "collapsed": false
   },
   "outputs": [],
   "source": [
    "X = df['text'].values"
   ]
  },
  {
   "cell_type": "code",
   "execution_count": 19,
   "metadata": {
    "collapsed": true
   },
   "outputs": [],
   "source": [
    "y = df['sentiment'].values"
   ]
  },
  {
   "cell_type": "code",
   "execution_count": 20,
   "metadata": {
    "collapsed": false
   },
   "outputs": [],
   "source": [
    "from sklearn.model_selection import train_test_split"
   ]
  },
  {
   "cell_type": "code",
   "execution_count": 21,
   "metadata": {
    "collapsed": true
   },
   "outputs": [],
   "source": [
    "X_train, X_test, y_train, y_test = train_test_split(X,y,test_size=0.1,random_state=1)"
   ]
  },
  {
   "cell_type": "code",
   "execution_count": 22,
   "metadata": {
    "collapsed": false
   },
   "outputs": [],
   "source": [
    "from sklearn.pipeline import Pipeline"
   ]
  },
  {
   "cell_type": "code",
   "execution_count": 23,
   "metadata": {
    "collapsed": true
   },
   "outputs": [],
   "source": [
    "from sklearn.linear_model import LogisticRegression"
   ]
  },
  {
   "cell_type": "code",
   "execution_count": 24,
   "metadata": {
    "collapsed": true
   },
   "outputs": [],
   "source": [
    "from sklearn.feature_extraction.text import CountVectorizer"
   ]
  },
  {
   "cell_type": "code",
   "execution_count": 25,
   "metadata": {
    "collapsed": true
   },
   "outputs": [],
   "source": [
    "from sklearn.feature_extraction.text import TfidfVectorizer"
   ]
  },
  {
   "cell_type": "code",
   "execution_count": 26,
   "metadata": {
    "collapsed": true
   },
   "outputs": [],
   "source": [
    "count = CountVectorizer(stop_words=stop)"
   ]
  },
  {
   "cell_type": "code",
   "execution_count": 27,
   "metadata": {
    "collapsed": true
   },
   "outputs": [],
   "source": [
    "tfidf = TfidfVectorizer(stop_words=stop, tokenizer=tokenizer)"
   ]
  },
  {
   "cell_type": "code",
   "execution_count": 28,
   "metadata": {
    "collapsed": true
   },
   "outputs": [],
   "source": [
    "lr_pipe = Pipeline([('vect',tfidf),\n",
    "                    ('clf',LogisticRegression(random_state=0))])"
   ]
  },
  {
   "cell_type": "code",
   "execution_count": 29,
   "metadata": {
    "collapsed": false
   },
   "outputs": [
    {
     "data": {
      "text/plain": [
       "Pipeline(steps=[('vect', TfidfVectorizer(analyzer='word', binary=False, decode_error='strict',\n",
       "        dtype=<class 'numpy.int64'>, encoding='utf-8', input='content',\n",
       "        lowercase=True, max_df=1.0, max_features=None, min_df=1,\n",
       "        ngram_range=(1, 1), norm='l2', preprocessor=None, smooth_idf=True,\n",
       "  ...nalty='l2', random_state=0, solver='liblinear', tol=0.0001,\n",
       "          verbose=0, warm_start=False))])"
      ]
     },
     "execution_count": 29,
     "metadata": {},
     "output_type": "execute_result"
    }
   ],
   "source": [
    "lr_pipe.fit(X_train,y_train)"
   ]
  },
  {
   "cell_type": "code",
   "execution_count": 30,
   "metadata": {
    "collapsed": false
   },
   "outputs": [
    {
     "data": {
      "text/plain": [
       "0.99270072992700731"
      ]
     },
     "execution_count": 30,
     "metadata": {},
     "output_type": "execute_result"
    }
   ],
   "source": [
    "lr_pipe.score(X_train,y_train)"
   ]
  },
  {
   "cell_type": "code",
   "execution_count": 31,
   "metadata": {
    "collapsed": false
   },
   "outputs": [
    {
     "data": {
      "text/plain": [
       "0.625"
      ]
     },
     "execution_count": 31,
     "metadata": {},
     "output_type": "execute_result"
    }
   ],
   "source": [
    "lr_pipe.score(X_test,y_test)"
   ]
  },
  {
   "cell_type": "code",
   "execution_count": 32,
   "metadata": {
    "collapsed": false
   },
   "outputs": [
    {
     "data": {
      "text/plain": [
       "0.99270072992700731"
      ]
     },
     "execution_count": 32,
     "metadata": {},
     "output_type": "execute_result"
    }
   ],
   "source": [
    "lr_pipe.score(X_train,y_train)"
   ]
  },
  {
   "cell_type": "code",
   "execution_count": 33,
   "metadata": {
    "collapsed": false
   },
   "outputs": [
    {
     "data": {
      "text/plain": [
       "'সত্যের '"
      ]
     },
     "execution_count": 33,
     "metadata": {},
     "output_type": "execute_result"
    }
   ],
   "source": [
    "X_train[0]"
   ]
  },
  {
   "cell_type": "code",
   "execution_count": 34,
   "metadata": {
    "collapsed": false
   },
   "outputs": [],
   "source": [
    "import numpy as np"
   ]
  },
  {
   "cell_type": "code",
   "execution_count": 35,
   "metadata": {
    "collapsed": true
   },
   "outputs": [],
   "source": [
    "label = {0:'negative',1:'positive'}"
   ]
  },
  {
   "cell_type": "code",
   "execution_count": 41,
   "metadata": {
    "collapsed": false
   },
   "outputs": [
    {
     "data": {
      "text/plain": [
       "array(['হিংসার '], dtype=object)"
      ]
     },
     "execution_count": 41,
     "metadata": {},
     "output_type": "execute_result"
    }
   ],
   "source": [
    "X_train[1:2]"
   ]
  },
  {
   "cell_type": "code",
   "execution_count": 44,
   "metadata": {
    "collapsed": false
   },
   "outputs": [
    {
     "data": {
      "text/plain": [
       "array([0])"
      ]
     },
     "execution_count": 44,
     "metadata": {},
     "output_type": "execute_result"
    }
   ],
   "source": [
    "lr_pipe.predict(X_train[1:2])"
   ]
  },
  {
   "cell_type": "code",
   "execution_count": 46,
   "metadata": {
    "collapsed": false
   },
   "outputs": [
    {
     "data": {
      "text/plain": [
       "'সত্যের '"
      ]
     },
     "execution_count": 46,
     "metadata": {},
     "output_type": "execute_result"
    }
   ],
   "source": [
    "X_train[0]"
   ]
  },
  {
   "cell_type": "code",
   "execution_count": 48,
   "metadata": {
    "collapsed": false
   },
   "outputs": [
    {
     "data": {
      "text/plain": [
       "'positive'"
      ]
     },
     "execution_count": 48,
     "metadata": {},
     "output_type": "execute_result"
    }
   ],
   "source": [
    "label[lr_pipe.predict(X_train[0:1])[0]]"
   ]
  },
  {
   "cell_type": "code",
   "execution_count": 54,
   "metadata": {
    "collapsed": false
   },
   "outputs": [
    {
     "data": {
      "text/plain": [
       "array([0])"
      ]
     },
     "execution_count": 54,
     "metadata": {},
     "output_type": "execute_result"
    }
   ],
   "source": [
    "lr_pipe.predict(X_train[1:2])"
   ]
  },
  {
   "cell_type": "code",
   "execution_count": 55,
   "metadata": {
    "collapsed": true
   },
   "outputs": [],
   "source": [
    "from sklearn.cross_validation import cross_val_score"
   ]
  },
  {
   "cell_type": "code",
   "execution_count": 56,
   "metadata": {
    "collapsed": true
   },
   "outputs": [],
   "source": [
    "scores = cross_val_score(estimator=lr_pipe,X=X_train,y=y_train,cv=10,n_jobs=1)"
   ]
  },
  {
   "cell_type": "code",
   "execution_count": 57,
   "metadata": {
    "collapsed": false
   },
   "outputs": [
    {
     "data": {
      "text/plain": [
       "array([ 0.73333333,  0.53333333,  0.57142857,  0.71428571,  0.5       ,\n",
       "        0.53846154,  0.76923077,  0.53846154,  0.46153846,  0.53846154])"
      ]
     },
     "execution_count": 57,
     "metadata": {},
     "output_type": "execute_result"
    }
   ],
   "source": [
    "scores"
   ]
  },
  {
   "cell_type": "code",
   "execution_count": 58,
   "metadata": {
    "collapsed": false
   },
   "outputs": [
    {
     "data": {
      "text/plain": [
       "0.5898534798534798"
      ]
     },
     "execution_count": 58,
     "metadata": {},
     "output_type": "execute_result"
    }
   ],
   "source": [
    "np.mean(scores)"
   ]
  },
  {
   "cell_type": "code",
   "execution_count": 59,
   "metadata": {
    "collapsed": false
   },
   "outputs": [
    {
     "data": {
      "text/plain": [
       "0.10209889919334542"
      ]
     },
     "execution_count": 59,
     "metadata": {},
     "output_type": "execute_result"
    }
   ],
   "source": [
    "np.std(scores)"
   ]
  },
  {
   "cell_type": "code",
   "execution_count": 60,
   "metadata": {
    "collapsed": true
   },
   "outputs": [],
   "source": [
    "from sklearn.metrics import precision_score"
   ]
  },
  {
   "cell_type": "code",
   "execution_count": 61,
   "metadata": {
    "collapsed": true
   },
   "outputs": [],
   "source": [
    "from sklearn.metrics import recall_score, f1_score"
   ]
  },
  {
   "cell_type": "code",
   "execution_count": 63,
   "metadata": {
    "collapsed": false
   },
   "outputs": [],
   "source": [
    "y_pred = lr_pipe.predict(X_test)"
   ]
  },
  {
   "cell_type": "code",
   "execution_count": 64,
   "metadata": {
    "collapsed": false
   },
   "outputs": [
    {
     "data": {
      "text/plain": [
       "0.59999999999999998"
      ]
     },
     "execution_count": 64,
     "metadata": {},
     "output_type": "execute_result"
    }
   ],
   "source": [
    "precision_score(y_true=y_test,y_pred=y_pred)"
   ]
  },
  {
   "cell_type": "code",
   "execution_count": 65,
   "metadata": {
    "collapsed": false
   },
   "outputs": [
    {
     "data": {
      "text/plain": [
       "1.0"
      ]
     },
     "execution_count": 65,
     "metadata": {},
     "output_type": "execute_result"
    }
   ],
   "source": [
    "recall_score(y_true=y_test,y_pred=y_pred)"
   ]
  },
  {
   "cell_type": "code",
   "execution_count": 66,
   "metadata": {
    "collapsed": false
   },
   "outputs": [
    {
     "data": {
      "text/plain": [
       "0.74999999999999989"
      ]
     },
     "execution_count": 66,
     "metadata": {},
     "output_type": "execute_result"
    }
   ],
   "source": [
    "f1_score(y_true=y_test,y_pred=y_pred)"
   ]
  },
  {
   "cell_type": "code",
   "execution_count": 67,
   "metadata": {
    "collapsed": true
   },
   "outputs": [],
   "source": [
    "from sklearn.metrics import roc_auc_score"
   ]
  },
  {
   "cell_type": "code",
   "execution_count": 69,
   "metadata": {
    "collapsed": false
   },
   "outputs": [
    {
     "data": {
      "text/plain": [
       "0.5714285714285714"
      ]
     },
     "execution_count": 69,
     "metadata": {},
     "output_type": "execute_result"
    }
   ],
   "source": [
    "roc_auc_score(y_true=y_test,y_score=y_pred)"
   ]
  },
  {
   "cell_type": "code",
   "execution_count": 70,
   "metadata": {
    "collapsed": true
   },
   "outputs": [],
   "source": [
    "from sklearn.grid_search import GridSearchCV"
   ]
  },
  {
   "cell_type": "code",
   "execution_count": 71,
   "metadata": {
    "collapsed": true
   },
   "outputs": [],
   "source": [
    "param_range = [0.0001,0.001,0.01,0.1,1.0,10.0,100.0,1000.0]"
   ]
  },
  {
   "cell_type": "code",
   "execution_count": 72,
   "metadata": {
    "collapsed": true
   },
   "outputs": [],
   "source": [
    "lr_param_grid = [{'clf__C':param_range,\n",
    "                  'clf__penalty':['l1']},\n",
    "                 {'clf__C':param_range,\n",
    "                  'clf__penalty':['l2']}]"
   ]
  },
  {
   "cell_type": "code",
   "execution_count": 75,
   "metadata": {
    "collapsed": false
   },
   "outputs": [],
   "source": [
    "lr_gs = GridSearchCV(estimator=lr_pipe,param_grid=lr_param_grid,scoring='accuracy',cv=10,n_jobs=-1)"
   ]
  },
  {
   "cell_type": "code",
   "execution_count": 76,
   "metadata": {
    "collapsed": true
   },
   "outputs": [],
   "source": [
    "lr_gs = lr_gs.fit(X_train,y_train)"
   ]
  },
  {
   "cell_type": "code",
   "execution_count": 77,
   "metadata": {
    "collapsed": false
   },
   "outputs": [
    {
     "data": {
      "text/plain": [
       "0.5985401459854015"
      ]
     },
     "execution_count": 77,
     "metadata": {},
     "output_type": "execute_result"
    }
   ],
   "source": [
    "lr_gs.best_score_"
   ]
  },
  {
   "cell_type": "code",
   "execution_count": 78,
   "metadata": {
    "collapsed": false
   },
   "outputs": [
    {
     "data": {
      "text/plain": [
       "{'clf__C': 10.0, 'clf__penalty': 'l2'}"
      ]
     },
     "execution_count": 78,
     "metadata": {},
     "output_type": "execute_result"
    }
   ],
   "source": [
    "lr_gs.best_params_"
   ]
  },
  {
   "cell_type": "code",
   "execution_count": 79,
   "metadata": {
    "collapsed": true
   },
   "outputs": [],
   "source": [
    "from sklearn.svm import SVC"
   ]
  },
  {
   "cell_type": "code",
   "execution_count": 80,
   "metadata": {
    "collapsed": true
   },
   "outputs": [],
   "source": [
    "svc_pipe = Pipeline([('vect',tfidf),\n",
    "                     ('clf',SVC(random_state=1))])"
   ]
  },
  {
   "cell_type": "code",
   "execution_count": 81,
   "metadata": {
    "collapsed": true
   },
   "outputs": [],
   "source": [
    "svc_param_grid = [{'clf__C':param_range,\n",
    "                   'clf__kernel': ['linear']},\n",
    "                  {'clf__C':param_range,\n",
    "                   'clf__gamma':param_range,\n",
    "                   'clf__kernel': ['rbf']}]"
   ]
  },
  {
   "cell_type": "code",
   "execution_count": 83,
   "metadata": {
    "collapsed": false
   },
   "outputs": [],
   "source": [
    "svc_gs = GridSearchCV(estimator=svc_pipe,param_grid=svc_param_grid,scoring='accuracy',cv=10,n_jobs=-1)"
   ]
  },
  {
   "cell_type": "code",
   "execution_count": 84,
   "metadata": {
    "collapsed": true
   },
   "outputs": [],
   "source": [
    "svc_gs = svc_gs.fit(X_train,y_train)"
   ]
  },
  {
   "cell_type": "code",
   "execution_count": 85,
   "metadata": {
    "collapsed": false
   },
   "outputs": [
    {
     "data": {
      "text/plain": [
       "0.5985401459854015"
      ]
     },
     "execution_count": 85,
     "metadata": {},
     "output_type": "execute_result"
    }
   ],
   "source": [
    "svc_gs.best_score_"
   ]
  },
  {
   "cell_type": "code",
   "execution_count": 86,
   "metadata": {
    "collapsed": false
   },
   "outputs": [
    {
     "data": {
      "text/plain": [
       "{'clf__C': 1.0, 'clf__kernel': 'linear'}"
      ]
     },
     "execution_count": 86,
     "metadata": {},
     "output_type": "execute_result"
    }
   ],
   "source": [
    "svc_gs.best_params_"
   ]
  },
  {
   "cell_type": "code",
   "execution_count": 87,
   "metadata": {
    "collapsed": true
   },
   "outputs": [],
   "source": [
    "from sklearn.tree import DecisionTreeClassifier"
   ]
  },
  {
   "cell_type": "code",
   "execution_count": 88,
   "metadata": {
    "collapsed": true
   },
   "outputs": [],
   "source": [
    "dt_pipe = Pipeline([('vect',tfidf),\n",
    "                     ('clf',DecisionTreeClassifier(random_state=0))])"
   ]
  },
  {
   "cell_type": "code",
   "execution_count": 93,
   "metadata": {
    "collapsed": true
   },
   "outputs": [],
   "source": [
    "dt_gs = GridSearchCV(estimator=dt_pipe, param_grid=[ {'clf__max_depth': [1, 2, 3, 4, 5, 6, 7, None] }], scoring='accuracy', cv=5)"
   ]
  },
  {
   "cell_type": "code",
   "execution_count": 94,
   "metadata": {
    "collapsed": false
   },
   "outputs": [],
   "source": [
    "dt_gs = dt_gs.fit(X_train,y_train)"
   ]
  },
  {
   "cell_type": "code",
   "execution_count": 95,
   "metadata": {
    "collapsed": false
   },
   "outputs": [
    {
     "data": {
      "text/plain": [
       "{'clf__max_depth': None}"
      ]
     },
     "execution_count": 95,
     "metadata": {},
     "output_type": "execute_result"
    }
   ],
   "source": [
    "dt_gs.best_params_"
   ]
  },
  {
   "cell_type": "code",
   "execution_count": 96,
   "metadata": {
    "collapsed": false
   },
   "outputs": [
    {
     "data": {
      "text/plain": [
       "0.5474452554744526"
      ]
     },
     "execution_count": 96,
     "metadata": {},
     "output_type": "execute_result"
    }
   ],
   "source": [
    "dt_gs.best_score_"
   ]
  },
  {
   "cell_type": "code",
   "execution_count": 97,
   "metadata": {
    "collapsed": true
   },
   "outputs": [],
   "source": [
    "from sklearn.neighbors import KNeighborsClassifier"
   ]
  },
  {
   "cell_type": "code",
   "execution_count": 101,
   "metadata": {
    "collapsed": false
   },
   "outputs": [],
   "source": [
    "knn_pipe = Pipeline([('vect',tfidf),\n",
    "                     ('clf',KNeighborsClassifier())])"
   ]
  },
  {
   "cell_type": "code",
   "execution_count": 102,
   "metadata": {
    "collapsed": false
   },
   "outputs": [
    {
     "data": {
      "text/plain": [
       "Pipeline(steps=[('vect', TfidfVectorizer(analyzer='word', binary=False, decode_error='strict',\n",
       "        dtype=<class 'numpy.int64'>, encoding='utf-8', input='content',\n",
       "        lowercase=True, max_df=1.0, max_features=None, min_df=1,\n",
       "        ngram_range=(1, 1), norm='l2', preprocessor=None, smooth_idf=True,\n",
       "  ...owski',\n",
       "           metric_params=None, n_jobs=1, n_neighbors=5, p=2,\n",
       "           weights='uniform'))])"
      ]
     },
     "execution_count": 102,
     "metadata": {},
     "output_type": "execute_result"
    }
   ],
   "source": [
    "knn_pipe.fit(X_train,y_train)"
   ]
  },
  {
   "cell_type": "code",
   "execution_count": 103,
   "metadata": {
    "collapsed": false
   },
   "outputs": [
    {
     "data": {
      "text/plain": [
       "0.625"
      ]
     },
     "execution_count": 103,
     "metadata": {},
     "output_type": "execute_result"
    }
   ],
   "source": [
    "knn_pipe.score(X_test,y_test)"
   ]
  },
  {
   "cell_type": "code",
   "execution_count": null,
   "metadata": {
    "collapsed": true
   },
   "outputs": [],
   "source": []
  }
 ],
 "metadata": {
  "anaconda-cloud": {},
  "kernelspec": {
   "display_name": "Python [default]",
   "language": "python",
   "name": "python3"
  },
  "language_info": {
   "codemirror_mode": {
    "name": "ipython",
    "version": 3
   },
   "file_extension": ".py",
   "mimetype": "text/x-python",
   "name": "python",
   "nbconvert_exporter": "python",
   "pygments_lexer": "ipython3",
   "version": "3.5.2"
  }
 },
 "nbformat": 4,
 "nbformat_minor": 1
}
